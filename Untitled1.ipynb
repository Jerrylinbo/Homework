{
  "nbformat": 4,
  "nbformat_minor": 0,
  "metadata": {
    "colab": {
      "provenance": []
    },
    "kernelspec": {
      "name": "python3",
      "display_name": "Python 3"
    },
    "language_info": {
      "name": "python"
    }
  },
  "cells": [
    {
      "cell_type": "code",
      "execution_count": null,
      "metadata": {
        "colab": {
          "base_uri": "https://localhost:8080/"
        },
        "id": "USoMxxjwe52f",
        "outputId": "52f648c2-eb2a-4ad3-b169-5f5f835e787d"
      },
      "outputs": [
        {
          "output_type": "stream",
          "name": "stdout",
          "text": [
            "Hello world?!555\n"
          ]
        }
      ],
      "source": [
        "x = 'Hello world?!555'\n",
        "print(x)"
      ]
    }
  ]
}